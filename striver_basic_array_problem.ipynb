{
  "nbformat": 4,
  "nbformat_minor": 0,
  "metadata": {
    "colab": {
      "provenance": [],
      "authorship_tag": "ABX9TyNHvvX9JhonWu6PG2xM56wi",
      "include_colab_link": true
    },
    "kernelspec": {
      "name": "python3",
      "display_name": "Python 3"
    },
    "language_info": {
      "name": "python"
    }
  },
  "cells": [
    {
      "cell_type": "markdown",
      "metadata": {
        "id": "view-in-github",
        "colab_type": "text"
      },
      "source": [
        "<a href=\"https://colab.research.google.com/github/kulraj97/python-random-quote/blob/master/striver_basic_array_problem.ipynb\" target=\"_parent\"><img src=\"https://colab.research.google.com/assets/colab-badge.svg\" alt=\"Open In Colab\"/></a>"
      ]
    },
    {
      "cell_type": "markdown",
      "source": [
        "# longest subarray with given sum\n"
      ],
      "metadata": {
        "id": "ZuYHq8zFB1iG"
      }
    },
    {
      "cell_type": "code",
      "execution_count": 4,
      "metadata": {
        "colab": {
          "base_uri": "https://localhost:8080/"
        },
        "id": "cSdoxWF2BwQL",
        "outputId": "52c038dd-355e-4edb-be7b-f9acc48bfcdc"
      },
      "outputs": [
        {
          "output_type": "stream",
          "name": "stdout",
          "text": [
            "3\n"
          ]
        }
      ],
      "source": [
        "a=[2,3,5,1,9]\n",
        "k=10\n",
        "\n",
        "cursum=0\n",
        "dick={}\n",
        "maxi=0\n",
        "\n",
        "for i in range (len(a)):\n",
        "  cursum+=a[i]\n",
        "  if cursum==k:\n",
        "    maxi=max(maxi,i+1)\n",
        "  if cursum-k in dick:\n",
        "    maxi=max(maxi , i - dick[cursum-k] )\n",
        "  if cursum not in dick:\n",
        "    dick[cursum]=i\n",
        "print(maxi)"
      ]
    },
    {
      "cell_type": "markdown",
      "source": [
        "## sort 0,1 and 2"
      ],
      "metadata": {
        "id": "7mTY-EBoDTvR"
      }
    },
    {
      "cell_type": "code",
      "source": [
        "a=[0,1,0,1,1,2,2,1,2,2,0,0,1,1,2,2,1,1,0]\n",
        "l,m,h=0,0,len(a)-1\n",
        "\n",
        "\n",
        "while m<=h:\n",
        "    if a[m]==0:\n",
        "        a[l],a[m]=a[m],a[l]\n",
        "        m+=1\n",
        "        l+=1\n",
        "    elif a[m] ==2:\n",
        "        a[m],a[h]=a[h],a[m]\n",
        "\n",
        "        h-=1\n",
        "    elif a[m]==1:\n",
        "        m+=1\n",
        "print(a)\n",
        ""
      ],
      "metadata": {
        "colab": {
          "base_uri": "https://localhost:8080/"
        },
        "id": "fcMexRG2DTc-",
        "outputId": "da22f66f-16bb-45b7-b8bc-ca491bc082b3"
      },
      "execution_count": 5,
      "outputs": [
        {
          "output_type": "stream",
          "name": "stdout",
          "text": [
            "[0, 0, 0, 0, 0, 1, 1, 1, 1, 1, 1, 1, 1, 2, 2, 2, 2, 2, 2]\n"
          ]
        }
      ]
    },
    {
      "cell_type": "markdown",
      "source": [
        "# Majority Element (>n//2)"
      ],
      "metadata": {
        "id": "1U0KsBxx6o_D"
      }
    },
    {
      "cell_type": "code",
      "source": [
        "from collections import Counter\n",
        "\n",
        "def majorityElement(arr):\n",
        "    # Size of the given array\n",
        "    n = len(arr)\n",
        "\n",
        "    # Count the occurrences of each element using Counter\n",
        "    counter = Counter(arr)\n",
        "\n",
        "    # Searching for the majority element\n",
        "    for num, count in counter.items():\n",
        "        if count > (n // 2):\n",
        "            return num\n",
        "\n",
        "    return -1\n",
        "\n",
        "arr = [2, 2, 1, 1, 1, 2, 2]\n",
        "ans = majorityElement(arr)\n",
        "print(\"The majority element is:\", ans)"
      ],
      "metadata": {
        "colab": {
          "base_uri": "https://localhost:8080/"
        },
        "id": "We46OkNZ6ZKz",
        "outputId": "a4e9214f-9304-47f9-cbf5-b1344351443a"
      },
      "execution_count": 6,
      "outputs": [
        {
          "output_type": "stream",
          "name": "stdout",
          "text": [
            "The majority element is: 2\n"
          ]
        }
      ]
    },
    {
      "cell_type": "markdown",
      "source": [],
      "metadata": {
        "id": "z087NSPxRjA0"
      }
    },
    {
      "cell_type": "markdown",
      "source": [
        "## Moores voting algorithm\n",
        "Majority Element (>n//2)"
      ],
      "metadata": {
        "id": "1FPc4hcnJdr5"
      }
    },
    {
      "cell_type": "code",
      "source": [
        "def majorityElement(arr):\n",
        "    # Size of the given array\n",
        "    n = len(arr)\n",
        "    cnt = 0  # Count\n",
        "    el = None  # Element\n",
        "\n",
        "    # Applying the algorithm\n",
        "    for i in range(n):\n",
        "        if cnt == 0:\n",
        "            cnt = 1\n",
        "            el = arr[i]\n",
        "        elif el == arr[i]:\n",
        "            cnt += 1\n",
        "        else:\n",
        "            cnt -= 1\n",
        "\n",
        "    # Checking if the stored element is the majority element\n",
        "    cnt1 = 0\n",
        "    for i in range(n):\n",
        "        if arr[i] == el:\n",
        "            cnt1 += 1\n",
        "\n",
        "    if cnt1 > (n // 2):\n",
        "        return el\n",
        "    return -1\n",
        "\n",
        "\n",
        "arr = [2, 2, 1, 1, 1, 2, 2]\n",
        "ans = majorityElement(arr)\n",
        "print(\"The majority element is:\", ans)"
      ],
      "metadata": {
        "id": "IxlZaF0PRj4T"
      },
      "execution_count": null,
      "outputs": []
    },
    {
      "cell_type": "markdown",
      "source": [
        "# Buy and sell stock (one transaction)"
      ],
      "metadata": {
        "id": "QsxtjVErCK8u"
      }
    },
    {
      "cell_type": "code",
      "source": [
        "def maxProfit(prices):\n",
        "    if not prices or len(prices) == 1:\n",
        "        return 0\n",
        "\n",
        "    min_price = prices[0]\n",
        "    max_profit = 0\n",
        "\n",
        "    for price in prices:\n",
        "        if price < min_price:\n",
        "            min_price = price\n",
        "        elif price - min_price > max_profit:\n",
        "            max_profit = price - min_price\n",
        "\n",
        "    return max_profit\n",
        "\n",
        "# Example usage:\n",
        "stock_prices = [7, 1, 5, 3, 6, 4]\n",
        "result = maxProfit(stock_prices)\n",
        "print(\"Max profit:\", result)\n"
      ],
      "metadata": {
        "id": "Gu9g-UKlCSL2"
      },
      "execution_count": null,
      "outputs": []
    },
    {
      "cell_type": "markdown",
      "source": [
        "# Buy and sell stock (infinite transaction)"
      ],
      "metadata": {
        "id": "6YLhwe0spxgW"
      }
    },
    {
      "cell_type": "code",
      "source": [
        "a=[1,2,3]\n",
        "buying_date=0\n",
        "selling_date=0\n",
        "profit=0\n",
        "for i in range (1,len(a)):\n",
        "  if a[i]>=a[i-1]:\n",
        "    selling_date += 1\n",
        "  else:\n",
        "    profit += a[selling_date] - a[buying_date]\n",
        "    buying_date = selling_date = i\n",
        "profit += a[selling_date] - a[buying_date]                                # -----> This line is for collecting the last part of the profit\n",
        "print(profit)\n"
      ],
      "metadata": {
        "colab": {
          "base_uri": "https://localhost:8080/"
        },
        "id": "2q02YHcfp1sW",
        "outputId": "067db33c-953b-4da0-e3b7-3df06387c34f"
      },
      "execution_count": 5,
      "outputs": [
        {
          "output_type": "stream",
          "name": "stdout",
          "text": [
            "2\n"
          ]
        }
      ]
    },
    {
      "cell_type": "markdown",
      "source": [
        "# Next Permutation (lexographically)"
      ],
      "metadata": {
        "id": "q2ou2s_OSJOO"
      }
    },
    {
      "cell_type": "code",
      "source": [
        "a=[3,1,2,4]\n",
        "idx1= -1\n",
        "idx2= -1\n",
        "for i in range (len(a)-2,-1,-1):\n",
        "    if a[i]<a[i+1]:\n",
        "        idx1=i\n",
        "        break\n",
        "\n",
        "for i in range (len(a)-1,-1,-1):\n",
        "    if a[i]>a[idx1]:\n",
        "        idx2=i\n",
        "        break\n",
        "\n",
        "if idx1== -1:\n",
        "    a.reverse()\n",
        "    print(a)\n",
        "si=idx1\n",
        "ei=idx2\n",
        "while si<=ei:\n",
        "    a[si],a[ei]=a[ei],a[si]\n",
        "    si+=1\n",
        "    ei-=1\n",
        "\n",
        "print(a)"
      ],
      "metadata": {
        "id": "VnNArijPSRTm"
      },
      "execution_count": null,
      "outputs": []
    },
    {
      "cell_type": "markdown",
      "source": [
        "# Leaders in an Array"
      ],
      "metadata": {
        "id": "StkO_5IVqT8-"
      }
    },
    {
      "cell_type": "code",
      "source": [
        "a= [10, 22, 12, 3, 0, 6]\n",
        "b = [a[-1]]\n",
        "maxi=a[-1]\n",
        "\n",
        "for i in range (len(a)-2,-1,-1):\n",
        "    if a[i] > maxi:\n",
        "        b.append(a[i])\n",
        "        maxi=a[i]\n",
        "print(b)\n",
        "\n",
        ""
      ],
      "metadata": {
        "id": "GoghS0jOqVc5"
      },
      "execution_count": null,
      "outputs": []
    },
    {
      "cell_type": "markdown",
      "source": [
        "# longestSuccessiveElements"
      ],
      "metadata": {
        "id": "ZOnG3xXswedZ"
      }
    },
    {
      "cell_type": "code",
      "source": [
        "a= [10, 22, 12,5,7, 3, 1,10,2,4, 6]\n",
        "maxi=0\n",
        "for i in range (len(a)):\n",
        "    if a[i]-1 not in a:\n",
        "        count=1\n",
        "        j = a[i]\n",
        "        while j +1 in a:\n",
        "            count+=1\n",
        "            j+=1\n",
        "            maxi = max(count,maxi)\n",
        "print(maxi)"
      ],
      "metadata": {
        "colab": {
          "base_uri": "https://localhost:8080/"
        },
        "id": "EFytaMNQwgUo",
        "outputId": "910441a4-6050-4c15-db65-df8a1e1f3fee"
      },
      "execution_count": 6,
      "outputs": [
        {
          "output_type": "stream",
          "name": "stdout",
          "text": [
            "7\n"
          ]
        }
      ]
    },
    {
      "cell_type": "markdown",
      "source": [
        "# Rotate matrix by 90"
      ],
      "metadata": {
        "id": "agWfbpsOof3U"
      }
    },
    {
      "cell_type": "code",
      "source": [
        "def rotate_matrix_90_clockwise(matrix):\n",
        "    n = len(matrix)\n",
        "\n",
        "    # Transpose the matrix\n",
        "    for i in range(n):\n",
        "        for j in range(i+1, n):\n",
        "            matrix[i][j], matrix[j][i] = matrix[j][i], matrix[i][j]\n",
        "\n",
        "    # Swap elements horizontally within each row\n",
        "    for i in range(n):\n",
        "        start = 0\n",
        "        end = n - 1\n",
        "        while start < end:\n",
        "            matrix[i][start], matrix[i][end] = matrix[i][end], matrix[i][start]\n",
        "            start += 1\n",
        "            end -= 1\n",
        "\n",
        "# Example usage:\n",
        "matrix = [\n",
        "    [1, 2, 3],\n",
        "    [4, 5, 6],\n",
        "    [7, 8, 9]\n",
        "]\n",
        "\n",
        "print(\"Original matrix:\")\n",
        "for row in matrix:\n",
        "    print(row)\n",
        "\n",
        "rotate_matrix_90_clockwise(matrix)\n",
        "\n",
        "print(\"\\nMatrix rotated by 90 degrees clockwise:\")\n",
        "for row in matrix:\n",
        "    print(row)\n"
      ],
      "metadata": {
        "colab": {
          "base_uri": "https://localhost:8080/"
        },
        "id": "FH2t-ZsGojcH",
        "outputId": "3b478b49-08b4-46a8-ac3b-d94b63f61879"
      },
      "execution_count": 1,
      "outputs": [
        {
          "output_type": "stream",
          "name": "stdout",
          "text": [
            "Original matrix:\n",
            "[1, 2, 3]\n",
            "[4, 5, 6]\n",
            "[7, 8, 9]\n",
            "\n",
            "Matrix rotated by 90 degrees clockwise:\n",
            "[7, 4, 1]\n",
            "[8, 5, 2]\n",
            "[9, 6, 3]\n"
          ]
        }
      ]
    },
    {
      "cell_type": "markdown",
      "source": [
        "# Count Subarray sum Equals K\n",
        "\n"
      ],
      "metadata": {
        "id": "V1gdKvMtMsKq"
      }
    },
    {
      "cell_type": "code",
      "source": [
        "def countSubarraySum(nums, k):\n",
        "    count = 0\n",
        "    prefix_sum = 0\n",
        "    sum_count = {}  # Initialize an empty dictionary\n",
        "\n",
        "    for num in nums:\n",
        "        prefix_sum += num\n",
        "\n",
        "        # If prefix_sum equals k, increment count\n",
        "        if prefix_sum == k:\n",
        "            count += 1\n",
        "\n",
        "        # Check if prefix_sum - k exists in the sum_count dictionary\n",
        "        if prefix_sum - k in sum_count:\n",
        "            count += sum_count[prefix_sum - k]\n",
        "\n",
        "        # Add the current prefix_sum to the sum_count dictionary\n",
        "        sum_count[prefix_sum] =  1\n",
        "\n",
        "    return count\n",
        "\n",
        "# Test case\n",
        "nums = [3, 4, 7, 2, -3, 1, 4, 2]\n",
        "k = 7\n",
        "result = countSubarraySum(nums, k)\n",
        "print(\"Number of subarrays with sum equal to\", k, \"is:\", result)\n"
      ],
      "metadata": {
        "colab": {
          "base_uri": "https://localhost:8080/"
        },
        "id": "xTe7J3DhMsjE",
        "outputId": "665ca213-66d8-49db-c52b-62d6fccde976"
      },
      "execution_count": 2,
      "outputs": [
        {
          "output_type": "stream",
          "name": "stdout",
          "text": [
            "Number of subarrays with sum equal to 7 is: 4\n"
          ]
        }
      ]
    },
    {
      "cell_type": "markdown",
      "source": [
        "# Pascal Triangle"
      ],
      "metadata": {
        "id": "BeuO4gZoU-n9"
      }
    },
    {
      "cell_type": "code",
      "source": [
        "def generate_pascal_triangle(num_rows):\n",
        "    if num_rows <= 0:\n",
        "        return []\n",
        "\n",
        "    triangle = []\n",
        "    for i in range(num_rows):\n",
        "        row = [1] * (i + 1)  # Initialize each row with 1s\n",
        "        for j in range(1, i):  # Update values between first and last element in each row\n",
        "            row[j] = triangle[i - 1][j - 1] + triangle[i - 1][j]\n",
        "        triangle.append(row)\n",
        "\n",
        "    return triangle\n",
        "\n",
        "# Example usage:\n",
        "num_rows = 5\n",
        "pascal_triangle = generate_pascal_triangle(num_rows)\n",
        "print(pascal_triangle)\n",
        "# Printing the Pascal's triangle\n",
        "for row in pascal_triangle:\n",
        "    print(row)\n"
      ],
      "metadata": {
        "colab": {
          "base_uri": "https://localhost:8080/"
        },
        "id": "_-g5odWhVBqs",
        "outputId": "a7330bd0-183e-4266-a049-d8c18f3d0933"
      },
      "execution_count": 1,
      "outputs": [
        {
          "output_type": "stream",
          "name": "stdout",
          "text": [
            "[[1], [1, 1], [1, 2, 1], [1, 3, 3, 1], [1, 4, 6, 4, 1]]\n",
            "[1]\n",
            "[1, 1]\n",
            "[1, 2, 1]\n",
            "[1, 3, 3, 1]\n",
            "[1, 4, 6, 4, 1]\n"
          ]
        }
      ]
    },
    {
      "cell_type": "markdown",
      "source": [
        "# Majority Element (>n//3)"
      ],
      "metadata": {
        "id": "7wKWFXxIW61u"
      }
    },
    {
      "cell_type": "code",
      "source": [
        "from collections import Counter\n",
        "\n",
        "def majorityElement(arr):\n",
        "    # Size of the given array\n",
        "    n = len(arr)\n",
        "\n",
        "    # Count the occurrences of each element using Counter\n",
        "    counter = Counter(arr)\n",
        "\n",
        "    # Searching for the majority element\n",
        "    for num, count in counter.items():\n",
        "        if count > (n // 3):\n",
        "            return num\n",
        "\n",
        "    return -1\n",
        "\n",
        "arr = [2, 2, 1, 1, 1, 2, 2]\n",
        "ans = majorityElement(arr)\n",
        "print(\"The majority element is:\", ans)\n"
      ],
      "metadata": {
        "id": "hQybsmmEW_I2"
      },
      "execution_count": null,
      "outputs": []
    },
    {
      "cell_type": "markdown",
      "source": [
        "# maximum product subarray"
      ],
      "metadata": {
        "id": "5CKtdrhvjAOR"
      }
    },
    {
      "cell_type": "code",
      "source": [
        "def maxProductSubArray(arr):\n",
        "    n = len(arr) # size of array.\n",
        "\n",
        "    pre, suff = 1, 1\n",
        "    ans = float('-inf')\n",
        "    for i in range(n):\n",
        "        if pre == 0:\n",
        "            pre = 1\n",
        "        if suff == 0:\n",
        "            suff = 1\n",
        "        pre *= arr[i]\n",
        "        suff *= arr[n - i - 1]\n",
        "        ans = max(ans, max(pre, suff))\n",
        "    return ans\n",
        "\n",
        "arr = [1, 2, -3, 0, -4, -5]\n",
        "print(\"The maximum product subarray is:\", maxProductSubArray(arr))\n"
      ],
      "metadata": {
        "colab": {
          "base_uri": "https://localhost:8080/"
        },
        "id": "7Cavoj3jjDka",
        "outputId": "0989825e-e76a-4d99-d5a0-31f2c9b8efd0"
      },
      "execution_count": 2,
      "outputs": [
        {
          "output_type": "stream",
          "name": "stdout",
          "text": [
            "The maximum product subarray is: 20\n"
          ]
        }
      ]
    }
  ]
}